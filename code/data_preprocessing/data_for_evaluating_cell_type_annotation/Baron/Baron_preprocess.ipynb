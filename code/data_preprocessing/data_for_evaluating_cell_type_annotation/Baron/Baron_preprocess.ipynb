{
 "cells": [
  {
   "cell_type": "markdown",
   "metadata": {},
   "source": [
    "# ScRNA-Seq from [Baron](https://www.ncbi.nlm.nih.gov/geo/query/acc.cgi?acc=GSE84133)"
   ]
  },
  {
   "cell_type": "code",
   "execution_count": 1,
   "metadata": {},
   "outputs": [],
   "source": [
    "# Import packages\n",
    "import scanpy as sc\n",
    "import pandas as pd\n",
    "import numpy as np\n",
    "from functions import data_preprocessing as dp"
   ]
  },
  {
   "cell_type": "code",
   "execution_count": 2,
   "metadata": {},
   "outputs": [
    {
     "name": "stderr",
     "output_type": "stream",
     "text": [
      "c:\\Users\\user\\Documents\\GitHub\\Masters_Thesis\\MScEnv\\lib\\site-packages\\anndata\\_core\\anndata.py:1763: FutureWarning: The AnnData.concatenate method is deprecated in favour of the anndata.concat function. Please use anndata.concat instead.\n",
      "\n",
      "See the tutorial for concat at: https://anndata.readthedocs.io/en/latest/concatenation.html\n",
      "  warnings.warn(\n",
      "c:\\Users\\user\\Documents\\GitHub\\Masters_Thesis\\MScEnv\\lib\\site-packages\\anndata\\_core\\anndata.py:1838: UserWarning: Observation names are not unique. To make them unique, call `.obs_names_make_unique`.\n",
      "  utils.warn_names_duplicates(\"obs\")\n",
      "c:\\Users\\user\\Documents\\GitHub\\Masters_Thesis\\MScEnv\\lib\\site-packages\\anndata\\_core\\anndata.py:1838: UserWarning: Observation names are not unique. To make them unique, call `.obs_names_make_unique`.\n",
      "  utils.warn_names_duplicates(\"obs\")\n"
     ]
    }
   ],
   "source": [
    "path = '../../../../data/raw/data_for_evaluating_cell_type_annotation/Baron/'\n",
    "\n",
    "files = ['GSM2230757_human1_umifm_counts.csv', \n",
    "         'GSM2230758_human2_umifm_counts.csv',\n",
    "         'GSM2230759_human3_umifm_counts.csv',\n",
    "         'GSM2230760_human4_umifm_counts.csv']\n",
    "\n",
    "adata_files = []\n",
    "\n",
    "for idx, file in enumerate(files):\n",
    "    df = pd.read_csv(path + file)\n",
    "\n",
    "    X = np.array(df.iloc[:,3:])\n",
    "    Y = df.iloc[:,2].to_list()\n",
    "    sample_ID = df.iloc[:,0].to_list()\n",
    "    gene_symbols = df.columns[3:].to_list()\n",
    "\n",
    "    adata = sc.AnnData(X=X)\n",
    "    adata.index = gene_symbols\n",
    "    adata.var_names = gene_symbols\n",
    "    adata.obs[\"cell_type\"] = Y\n",
    "    adata.obs[\"patientID\"] = [f\"Patient_{idx}\"]*len(Y)\n",
    "\n",
    "    adata_files.append(adata)\n",
    "\n",
    "adata = adata_files[0].concatenate(adata_files[1:], batch_key='patientID', join='outer', index_unique=None)\n",
    "adata.obs[\"patientID\"] = [\"{}{}\".format(prefix, id) for prefix, id in zip([\"Patient_\"]*len(adata.obs[\"patientID\"]), adata.obs[\"patientID\"].to_list())]\n",
    "\n",
    "# Checking for duplicate genes\n",
    "duplicate_genes = adata.var_names[adata.var_names.duplicated()]\n",
    "if not duplicate_genes.empty:\n",
    "    print(f\"Duplicate genes found: {duplicate_genes}\")"
   ]
  },
  {
   "cell_type": "code",
   "execution_count": 3,
   "metadata": {},
   "outputs": [
    {
     "data": {
      "text/plain": [
       "0       Patient_0\n",
       "1       Patient_0\n",
       "2       Patient_0\n",
       "3       Patient_0\n",
       "4       Patient_0\n",
       "          ...    \n",
       "1298    Patient_3\n",
       "1299    Patient_3\n",
       "1300    Patient_3\n",
       "1301    Patient_3\n",
       "1302    Patient_3\n",
       "Name: patientID, Length: 8569, dtype: object"
      ]
     },
     "execution_count": 3,
     "metadata": {},
     "output_type": "execute_result"
    }
   ],
   "source": [
    "adata.obs[\"patientID\"]"
   ]
  },
  {
   "cell_type": "code",
   "execution_count": 4,
   "metadata": {},
   "outputs": [
    {
     "data": {
      "text/html": [
       "<div>\n",
       "<style scoped>\n",
       "    .dataframe tbody tr th:only-of-type {\n",
       "        vertical-align: middle;\n",
       "    }\n",
       "\n",
       "    .dataframe tbody tr th {\n",
       "        vertical-align: top;\n",
       "    }\n",
       "\n",
       "    .dataframe thead th {\n",
       "        text-align: right;\n",
       "    }\n",
       "</style>\n",
       "<table border=\"1\" class=\"dataframe\">\n",
       "  <thead>\n",
       "    <tr style=\"text-align: right;\">\n",
       "      <th></th>\n",
       "    </tr>\n",
       "  </thead>\n",
       "  <tbody>\n",
       "    <tr>\n",
       "      <th>A1BG</th>\n",
       "    </tr>\n",
       "    <tr>\n",
       "      <th>A1CF</th>\n",
       "    </tr>\n",
       "    <tr>\n",
       "      <th>A2M</th>\n",
       "    </tr>\n",
       "    <tr>\n",
       "      <th>A2ML1</th>\n",
       "    </tr>\n",
       "    <tr>\n",
       "      <th>A4GALT</th>\n",
       "    </tr>\n",
       "  </tbody>\n",
       "</table>\n",
       "</div>"
      ],
      "text/plain": [
       "Empty DataFrame\n",
       "Columns: []\n",
       "Index: [A1BG, A1CF, A2M, A2ML1, A4GALT]"
      ]
     },
     "execution_count": 4,
     "metadata": {},
     "output_type": "execute_result"
    }
   ],
   "source": [
    "adata.var.head()"
   ]
  },
  {
   "cell_type": "code",
   "execution_count": 5,
   "metadata": {},
   "outputs": [
    {
     "data": {
      "text/plain": [
       "AnnData object with n_obs × n_vars = 8569 × 20125\n",
       "    obs: 'cell_type', 'patientID'"
      ]
     },
     "execution_count": 5,
     "metadata": {},
     "output_type": "execute_result"
    }
   ],
   "source": [
    "adata"
   ]
  },
  {
   "cell_type": "markdown",
   "metadata": {},
   "source": [
    "## Preprocessing"
   ]
  },
  {
   "cell_type": "code",
   "execution_count": 6,
   "metadata": {},
   "outputs": [
    {
     "name": "stdout",
     "output_type": "stream",
     "text": [
      "               cell_type  patientID  n_counts  log_n_counts  n_genes  \\\n",
      "0                 acinar  Patient_0     22412     10.017396     3526   \n",
      "1                 acinar  Patient_0     27953     10.238316     4201   \n",
      "2                 acinar  Patient_0     16895      9.734832     2119   \n",
      "3                 acinar  Patient_0     19300      9.867912     2956   \n",
      "4                 acinar  Patient_0     15067      9.620329     2715   \n",
      "...                  ...        ...       ...           ...      ...   \n",
      "1298  activated_stellate  Patient_3      2100      7.650169     1055   \n",
      "1299               alpha  Patient_3      2022      7.612337     1007   \n",
      "1300                beta  Patient_3      2197      7.695303      942   \n",
      "1301                beta  Patient_3      2153      7.675082     1031   \n",
      "1302              ductal  Patient_3      2463      7.809541      985   \n",
      "\n",
      "      log_n_genes  pct_counts_in_top_20_genes  mt_frac  ribo_frac  hem_frac  \n",
      "0        8.168203                    0.395056      0.0   0.169418       0.0  \n",
      "1        8.343316                    0.356849      0.0   0.198082       0.0  \n",
      "2        7.659171                    0.529091      0.0   0.207221       0.0  \n",
      "3        7.991931                    0.418031      0.0   0.209896       0.0  \n",
      "4        7.906915                    0.395566      0.0   0.212119       0.0  \n",
      "...           ...                         ...      ...        ...       ...  \n",
      "1298     6.962243                    0.173810      0.0   0.161429       0.0  \n",
      "1299     6.915723                    0.309100      0.0   0.097428       0.0  \n",
      "1300     6.849066                    0.398270      0.0   0.120619       0.0  \n",
      "1301     6.939254                    0.285648      0.0   0.157455       0.0  \n",
      "1302     6.893656                    0.235485      0.0   0.244823       0.0  \n",
      "\n",
      "[8569 rows x 10 columns]\n"
     ]
    }
   ],
   "source": [
    "# Add QC metrics to adata\n",
    "adata = dp.QC().QC_metric_calc(adata)\n",
    "print(adata.obs)"
   ]
  },
  {
   "cell_type": "code",
   "execution_count": 7,
   "metadata": {},
   "outputs": [
    {
     "name": "stdout",
     "output_type": "stream",
     "text": [
      "Number of genes before filtering: 20125\n",
      "Number of genes after filtering so theres min 20 unique cells per gene: 14322\n"
     ]
    },
    {
     "name": "stderr",
     "output_type": "stream",
     "text": [
      "c:\\Users\\user\\Documents\\GitHub\\Masters_Thesis\\MScEnv\\lib\\site-packages\\anndata\\_core\\anndata.py:1838: UserWarning: Observation names are not unique. To make them unique, call `.obs_names_make_unique`.\n",
      "  utils.warn_names_duplicates(\"obs\")\n"
     ]
    }
   ],
   "source": [
    "#Filter genes:\n",
    "print('Number of genes before filtering: {:d}'.format(adata.n_vars))\n",
    "\n",
    "# Min \"expression_limit\" cells - filters out 0 count genes\n",
    "sc.pp.filter_genes(adata, min_cells=20)\n",
    "print(f'Number of genes after filtering so theres min {20} unique cells per gene: {adata.n_vars}')"
   ]
  },
  {
   "cell_type": "markdown",
   "metadata": {},
   "source": [
    "## Normalize"
   ]
  },
  {
   "cell_type": "code",
   "execution_count": 8,
   "metadata": {},
   "outputs": [],
   "source": [
    "norm_qc_adata = dp.log1p_normalize(adata)\n",
    "del norm_qc_adata.layers['pp_counts']"
   ]
  },
  {
   "cell_type": "code",
   "execution_count": 9,
   "metadata": {},
   "outputs": [
    {
     "data": {
      "text/plain": [
       "AnnData object with n_obs × n_vars = 8569 × 14322\n",
       "    obs: 'cell_type', 'patientID', 'n_counts', 'log_n_counts', 'n_genes', 'log_n_genes', 'pct_counts_in_top_20_genes', 'mt_frac', 'ribo_frac', 'hem_frac', 'size_factors'\n",
       "    var: 'n_cells'\n",
       "    layers: 'log1p_counts'"
      ]
     },
     "execution_count": 9,
     "metadata": {},
     "output_type": "execute_result"
    }
   ],
   "source": [
    "norm_qc_adata"
   ]
  },
  {
   "cell_type": "code",
   "execution_count": 10,
   "metadata": {},
   "outputs": [
    {
     "data": {
      "image/png": "[encoded data removed]",
      "text/plain": [
       "<Figure size 1000x500 with 2 Axes>"
      ]
     },
     "metadata": {},
     "output_type": "display_data"
    }
   ],
   "source": [
    "# Visualize counts before and after normalization\n",
    "dp.EDA().VisualizeNormalization(norm_qc_adata)"
   ]
  },
  {
   "cell_type": "code",
   "execution_count": 11,
   "metadata": {},
   "outputs": [],
   "source": [
    "# Change data type\n",
    "norm_qc_adata.X = norm_qc_adata.X.astype(np.float32)"
   ]
  },
  {
   "cell_type": "code",
   "execution_count": 12,
   "metadata": {},
   "outputs": [],
   "source": [
    "# Download normalized count matrix\n",
    "norm_qc_adata.write('../../../../data/processed/data_for_evaluating_cell_type_annotation/Baron.h5ad')"
   ]
  }
 ],
 "metadata": {
  "kernelspec": {
   "display_name": "Python 3",
   "language": "python",
   "name": "python3"
  },
  "language_info": {
   "codemirror_mode": {
    "name": "ipython",
    "version": 3
   },
   "file_extension": ".py",
   "mimetype": "text/x-python",
   "name": "python",
   "nbconvert_exporter": "python",
   "pygments_lexer": "ipython3",
   "version": "3.10.5"
  },
  "orig_nbformat": 4
 },
 "nbformat": 4,
 "nbformat_minor": 2
}
