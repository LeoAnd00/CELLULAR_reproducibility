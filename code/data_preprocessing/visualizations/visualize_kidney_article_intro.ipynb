{
 "cells": [
  {
   "cell_type": "markdown",
   "metadata": {},
   "source": [
    "# Kidney dataset"
   ]
  },
  {
   "cell_type": "code",
   "execution_count": 1,
   "metadata": {},
   "outputs": [
    {
     "name": "stderr",
     "output_type": "stream",
     "text": [
      "c:\\Users\\user\\Documents\\GitHub\\CELLULAR_reproducibility\\env\\lib\\site-packages\\tqdm\\auto.py:21: TqdmWarning: IProgress not found. Please update jupyter and ipywidgets. See https://ipywidgets.readthedocs.io/en/stable/user_install.html\n",
      "  from .autonotebook import tqdm as notebook_tqdm\n"
     ]
    }
   ],
   "source": [
    "# Import packages\n",
    "import scanpy as sc\n",
    "from functions import viz_fun_kidney_article_intro as vf\n",
    "import warnings\n",
    "\n",
    "warnings.filterwarnings(\"ignore\", category=FutureWarning)"
   ]
  },
  {
   "cell_type": "markdown",
   "metadata": {},
   "source": [
    "## Read AnnData and add metadata information"
   ]
  },
  {
   "cell_type": "code",
   "execution_count": 2,
   "metadata": {},
   "outputs": [
    {
     "data": {
      "text/plain": [
       "(16370, 13807)"
      ]
     },
     "execution_count": 2,
     "metadata": {},
     "output_type": "execute_result"
    }
   ],
   "source": [
    "file_paths = '../../../data/processed/kidney_cells/'\n",
    "filename = 'Muto_merged.h5ad'\n",
    "\n",
    "file = file_paths + filename\n",
    "adata = sc.read(file, cache=True)\n",
    "adata.X.shape\n"
   ]
  },
  {
   "cell_type": "code",
   "execution_count": 3,
   "metadata": {},
   "outputs": [
    {
     "data": {
      "text/html": [
       "<div>\n",
       "<style scoped>\n",
       "    .dataframe tbody tr th:only-of-type {\n",
       "        vertical-align: middle;\n",
       "    }\n",
       "\n",
       "    .dataframe tbody tr th {\n",
       "        vertical-align: top;\n",
       "    }\n",
       "\n",
       "    .dataframe thead th {\n",
       "        text-align: right;\n",
       "    }\n",
       "</style>\n",
       "<table border=\"1\" class=\"dataframe\">\n",
       "  <thead>\n",
       "    <tr style=\"text-align: right;\">\n",
       "      <th></th>\n",
       "      <th>n_counts</th>\n",
       "      <th>log_n_counts</th>\n",
       "      <th>n_genes</th>\n",
       "      <th>log_n_genes</th>\n",
       "      <th>pct_counts_in_top_20_genes</th>\n",
       "      <th>mt_frac</th>\n",
       "      <th>ribo_frac</th>\n",
       "      <th>hem_frac</th>\n",
       "      <th>outlier</th>\n",
       "      <th>size_factors</th>\n",
       "      <th>cell_type</th>\n",
       "      <th>patientID</th>\n",
       "      <th>study</th>\n",
       "      <th>chemistry</th>\n",
       "      <th>tissue</th>\n",
       "      <th>species</th>\n",
       "      <th>data_type</th>\n",
       "      <th>sample_ID</th>\n",
       "    </tr>\n",
       "    <tr>\n",
       "      <th>barcode</th>\n",
       "      <th></th>\n",
       "      <th></th>\n",
       "      <th></th>\n",
       "      <th></th>\n",
       "      <th></th>\n",
       "      <th></th>\n",
       "      <th></th>\n",
       "      <th></th>\n",
       "      <th></th>\n",
       "      <th></th>\n",
       "      <th></th>\n",
       "      <th></th>\n",
       "      <th></th>\n",
       "      <th></th>\n",
       "      <th></th>\n",
       "      <th></th>\n",
       "      <th></th>\n",
       "      <th></th>\n",
       "    </tr>\n",
       "  </thead>\n",
       "  <tbody>\n",
       "    <tr>\n",
       "      <th>AAACCTGAGGGTCTCC-1-Muto_1</th>\n",
       "      <td>3410.0</td>\n",
       "      <td>8.134761</td>\n",
       "      <td>1862</td>\n",
       "      <td>7.529943</td>\n",
       "      <td>0.171848</td>\n",
       "      <td>0.002933</td>\n",
       "      <td>0.003812</td>\n",
       "      <td>0.0</td>\n",
       "      <td>False</td>\n",
       "      <td>0.715514</td>\n",
       "      <td>Principal cells (Collecting duct system)</td>\n",
       "      <td>Muto_1</td>\n",
       "      <td>Muto</td>\n",
       "      <td>v3.1_10X</td>\n",
       "      <td>Kidney</td>\n",
       "      <td>Human</td>\n",
       "      <td>UMI</td>\n",
       "      <td>Muto_1</td>\n",
       "    </tr>\n",
       "    <tr>\n",
       "      <th>AAACCTGAGTGTTAGA-1-Muto_1</th>\n",
       "      <td>5341.0</td>\n",
       "      <td>8.583355</td>\n",
       "      <td>2501</td>\n",
       "      <td>7.824846</td>\n",
       "      <td>0.131436</td>\n",
       "      <td>0.000374</td>\n",
       "      <td>0.002434</td>\n",
       "      <td>0.0</td>\n",
       "      <td>False</td>\n",
       "      <td>1.121021</td>\n",
       "      <td>Proximal tubule cells</td>\n",
       "      <td>Muto_1</td>\n",
       "      <td>Muto</td>\n",
       "      <td>v3.1_10X</td>\n",
       "      <td>Kidney</td>\n",
       "      <td>Human</td>\n",
       "      <td>UMI</td>\n",
       "      <td>Muto_1</td>\n",
       "    </tr>\n",
       "    <tr>\n",
       "      <th>AAACCTGCAAGCGCTC-1-Muto_1</th>\n",
       "      <td>10178.0</td>\n",
       "      <td>9.228082</td>\n",
       "      <td>3580</td>\n",
       "      <td>8.183397</td>\n",
       "      <td>0.142562</td>\n",
       "      <td>0.001376</td>\n",
       "      <td>0.001867</td>\n",
       "      <td>0.0</td>\n",
       "      <td>False</td>\n",
       "      <td>2.135318</td>\n",
       "      <td>Loop of Henle cells</td>\n",
       "      <td>Muto_1</td>\n",
       "      <td>Muto</td>\n",
       "      <td>v3.1_10X</td>\n",
       "      <td>Kidney</td>\n",
       "      <td>Human</td>\n",
       "      <td>UMI</td>\n",
       "      <td>Muto_1</td>\n",
       "    </tr>\n",
       "    <tr>\n",
       "      <th>AAACCTGCACCAGATT-1-Muto_1</th>\n",
       "      <td>8911.0</td>\n",
       "      <td>9.095154</td>\n",
       "      <td>3018</td>\n",
       "      <td>8.012681</td>\n",
       "      <td>0.152284</td>\n",
       "      <td>0.001571</td>\n",
       "      <td>0.001571</td>\n",
       "      <td>0.0</td>\n",
       "      <td>False</td>\n",
       "      <td>1.874227</td>\n",
       "      <td>Loop of Henle cells</td>\n",
       "      <td>Muto_1</td>\n",
       "      <td>Muto</td>\n",
       "      <td>v3.1_10X</td>\n",
       "      <td>Kidney</td>\n",
       "      <td>Human</td>\n",
       "      <td>UMI</td>\n",
       "      <td>Muto_1</td>\n",
       "    </tr>\n",
       "    <tr>\n",
       "      <th>AAACCTGCACGGCGTT-1-Muto_1</th>\n",
       "      <td>894.0</td>\n",
       "      <td>6.796824</td>\n",
       "      <td>731</td>\n",
       "      <td>6.595781</td>\n",
       "      <td>0.102908</td>\n",
       "      <td>0.013423</td>\n",
       "      <td>0.010067</td>\n",
       "      <td>0.0</td>\n",
       "      <td>False</td>\n",
       "      <td>0.187825</td>\n",
       "      <td>Proximal tubule cells</td>\n",
       "      <td>Muto_1</td>\n",
       "      <td>Muto</td>\n",
       "      <td>v3.1_10X</td>\n",
       "      <td>Kidney</td>\n",
       "      <td>Human</td>\n",
       "      <td>UMI</td>\n",
       "      <td>Muto_1</td>\n",
       "    </tr>\n",
       "  </tbody>\n",
       "</table>\n",
       "</div>"
      ],
      "text/plain": [
       "                           n_counts  log_n_counts  n_genes  log_n_genes  \\\n",
       "barcode                                                                   \n",
       "AAACCTGAGGGTCTCC-1-Muto_1    3410.0      8.134761     1862     7.529943   \n",
       "AAACCTGAGTGTTAGA-1-Muto_1    5341.0      8.583355     2501     7.824846   \n",
       "AAACCTGCAAGCGCTC-1-Muto_1   10178.0      9.228082     3580     8.183397   \n",
       "AAACCTGCACCAGATT-1-Muto_1    8911.0      9.095154     3018     8.012681   \n",
       "AAACCTGCACGGCGTT-1-Muto_1     894.0      6.796824      731     6.595781   \n",
       "\n",
       "                           pct_counts_in_top_20_genes   mt_frac  ribo_frac  \\\n",
       "barcode                                                                      \n",
       "AAACCTGAGGGTCTCC-1-Muto_1                    0.171848  0.002933   0.003812   \n",
       "AAACCTGAGTGTTAGA-1-Muto_1                    0.131436  0.000374   0.002434   \n",
       "AAACCTGCAAGCGCTC-1-Muto_1                    0.142562  0.001376   0.001867   \n",
       "AAACCTGCACCAGATT-1-Muto_1                    0.152284  0.001571   0.001571   \n",
       "AAACCTGCACGGCGTT-1-Muto_1                    0.102908  0.013423   0.010067   \n",
       "\n",
       "                           hem_frac  outlier  size_factors  \\\n",
       "barcode                                                      \n",
       "AAACCTGAGGGTCTCC-1-Muto_1       0.0    False      0.715514   \n",
       "AAACCTGAGTGTTAGA-1-Muto_1       0.0    False      1.121021   \n",
       "AAACCTGCAAGCGCTC-1-Muto_1       0.0    False      2.135318   \n",
       "AAACCTGCACCAGATT-1-Muto_1       0.0    False      1.874227   \n",
       "AAACCTGCACGGCGTT-1-Muto_1       0.0    False      0.187825   \n",
       "\n",
       "                                                          cell_type patientID  \\\n",
       "barcode                                                                         \n",
       "AAACCTGAGGGTCTCC-1-Muto_1  Principal cells (Collecting duct system)    Muto_1   \n",
       "AAACCTGAGTGTTAGA-1-Muto_1                     Proximal tubule cells    Muto_1   \n",
       "AAACCTGCAAGCGCTC-1-Muto_1                       Loop of Henle cells    Muto_1   \n",
       "AAACCTGCACCAGATT-1-Muto_1                       Loop of Henle cells    Muto_1   \n",
       "AAACCTGCACGGCGTT-1-Muto_1                     Proximal tubule cells    Muto_1   \n",
       "\n",
       "                          study chemistry  tissue species data_type sample_ID  \n",
       "barcode                                                                        \n",
       "AAACCTGAGGGTCTCC-1-Muto_1  Muto  v3.1_10X  Kidney   Human       UMI    Muto_1  \n",
       "AAACCTGAGTGTTAGA-1-Muto_1  Muto  v3.1_10X  Kidney   Human       UMI    Muto_1  \n",
       "AAACCTGCAAGCGCTC-1-Muto_1  Muto  v3.1_10X  Kidney   Human       UMI    Muto_1  \n",
       "AAACCTGCACCAGATT-1-Muto_1  Muto  v3.1_10X  Kidney   Human       UMI    Muto_1  \n",
       "AAACCTGCACGGCGTT-1-Muto_1  Muto  v3.1_10X  Kidney   Human       UMI    Muto_1  "
      ]
     },
     "execution_count": 3,
     "metadata": {},
     "output_type": "execute_result"
    }
   ],
   "source": [
    "adata.obs.head(5)"
   ]
  },
  {
   "cell_type": "markdown",
   "metadata": {},
   "source": [
    "## Visualize"
   ]
  },
  {
   "cell_type": "code",
   "execution_count": 4,
   "metadata": {},
   "outputs": [
    {
     "name": "stderr",
     "output_type": "stream",
     "text": [
      "c:\\Users\\user\\Documents\\GitHub\\CELLULAR_reproducibility\\env\\lib\\site-packages\\umap\\umap_.py:1943: UserWarning: n_jobs value -1 overridden to 1 by setting random_state. Use no seed for parallelism.\n",
      "  warn(f\"n_jobs value {self.n_jobs} overridden to 1 by setting random_state. Use no seed for parallelism.\")\n",
      "c:\\Users\\user\\Documents\\GitHub\\CELLULAR_reproducibility\\code\\data_preprocessing\\visualizations\\functions\\viz_fun_kidney_article_intro.py:40: ImplicitModificationWarning: Trying to modify attribute `.obs` of view, initializing view as actual.\n",
      "  vis_adata.obs[\"cell_type_encoded\"] = le_cell_type.fit_transform(vis_adata.obs[\"cell_type\"])\n"
     ]
    },
    {
     "data": {
      "image/png": "[encoded data removed]",
      "text/plain": [
       "<Figure size 505.556x315 with 2 Axes>"
      ]
     },
     "metadata": {},
     "output_type": "display_data"
    }
   ],
   "source": [
    "vf.umap_viz(adata=adata, image_path=\"figures/kidney_data_article_intro\")"
   ]
  }
 ],
 "metadata": {
  "kernelspec": {
   "display_name": "Python 3",
   "language": "python",
   "name": "python3"
  },
  "language_info": {
   "codemirror_mode": {
    "name": "ipython",
    "version": 3
   },
   "file_extension": ".py",
   "mimetype": "text/x-python",
   "name": "python",
   "nbconvert_exporter": "python",
   "pygments_lexer": "ipython3",
   "version": "3.10.5"
  },
  "orig_nbformat": 4
 },
 "nbformat": 4,
 "nbformat_minor": 2
}
