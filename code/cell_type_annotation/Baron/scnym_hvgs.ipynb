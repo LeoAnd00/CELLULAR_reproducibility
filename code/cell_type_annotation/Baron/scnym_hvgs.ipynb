{
 "cells": [
  {
   "cell_type": "markdown",
   "metadata": {},
   "source": [
    "## scNym: https://github.com/calico/scnym "
   ]
  },
  {
   "cell_type": "code",
   "execution_count": 1,
   "metadata": {},
   "outputs": [],
   "source": [
    "import scnym\n",
    "from scnym.api import scnym_api\n",
    "import torch\n",
    "import random\n",
    "import numpy as np\n",
    "import pandas as pd\n",
    "import tensorflow as tf\n",
    "from sklearn.model_selection import StratifiedKFold\n",
    "from sklearn.metrics import accuracy_score\n",
    "from sklearn.preprocessing import LabelEncoder\n",
    "import scanpy as sc"
   ]
  },
  {
   "cell_type": "code",
   "execution_count": 2,
   "metadata": {},
   "outputs": [],
   "source": [
    "def split_data(data_path: str, \n",
    "               fold: int=1,\n",
    "               folds: int=5,\n",
    "               batch_key: str=\"patientID\", \n",
    "               label_key: str=\"cell_type\",\n",
    "               seed: int=42,\n",
    "               HVG: bool=True,\n",
    "               HVGs: int=2000):\n",
    "    \n",
    "    adata = sc.read(data_path, cache=True)\n",
    "\n",
    "    adata.obs[\"batch\"] = adata.obs[batch_key]\n",
    "\n",
    "    # Ensure reproducibility\n",
    "    def rep_seed(seed):\n",
    "        # Check if a GPU is available\n",
    "        if torch.cuda.is_available():\n",
    "            # Set the random seed for PyTorch CUDA (GPU) operations\n",
    "            torch.cuda.manual_seed(seed)\n",
    "            # Set the random seed for all CUDA devices (if multiple GPUs are available)\n",
    "            torch.cuda.manual_seed_all(seed)\n",
    "        \n",
    "        # Set the random seed for CPU-based PyTorch operations\n",
    "        torch.manual_seed(seed)\n",
    "        \n",
    "        # Set the random seed for NumPy\n",
    "        np.random.seed(seed)\n",
    "        \n",
    "        # Set the random seed for Python's built-in 'random' module\n",
    "        random.seed(seed)\n",
    "        \n",
    "        # Set the random seed for TensorFlow\n",
    "        tf.random.set_seed(seed)\n",
    "        \n",
    "        # Set CuDNN to deterministic mode for PyTorch (GPU)\n",
    "        torch.backends.cudnn.deterministic = True\n",
    "        \n",
    "        # Disable CuDNN's benchmarking mode for deterministic behavior\n",
    "        torch.backends.cudnn.benchmark = False\n",
    "\n",
    "    rep_seed(seed)\n",
    "\n",
    "    # Initialize Stratified K-Fold\n",
    "    stratified_kfold = StratifiedKFold(n_splits=folds, shuffle=True, random_state=42)\n",
    "\n",
    "    # Iterate through the folds\n",
    "    adata_original = adata.copy()\n",
    "    test_adata_original = adata.copy()\n",
    "    fold_counter = 0\n",
    "    for train_index, test_index in stratified_kfold.split(adata_original.X, adata_original.obs[label_key]):\n",
    "        fold_counter += 1\n",
    "        \n",
    "        adata = adata_original[train_index, :].copy()\n",
    "        test_adata = test_adata_original[test_index, :].copy()\n",
    "\n",
    "        if HVG:\n",
    "            sc.pp.highly_variable_genes(adata, n_top_genes=HVGs, flavor=\"cell_ranger\")\n",
    "            test_adata = test_adata[:, adata.var[\"highly_variable\"]].copy()\n",
    "            adata = adata[:, adata.var[\"highly_variable\"]].copy()\n",
    "        \n",
    "        if fold_counter == fold:\n",
    "            \n",
    "            return adata, test_adata\n"
   ]
  },
  {
   "cell_type": "code",
   "execution_count": null,
   "metadata": {},
   "outputs": [],
   "source": [
    "data_path = \"../../../data/processed/data_for_evaluating_cell_type_annotation/Baron.h5ad\"\n",
    "\n",
    "# Iterate through folds\n",
    "results = None\n",
    "for fold_idx in range(5):\n",
    "    fold = fold_idx + 1\n",
    "\n",
    "    adata_train, adata_test = split_data(data_path=data_path, fold=fold)\n",
    "\n",
    "    # Train model\n",
    "    scnym_api(\n",
    "        adata=adata_train,\n",
    "        task='train',\n",
    "        groupby='cell_type',\n",
    "        out_path='./scnym_outputs',\n",
    "        config='no_new_identity',\n",
    "    )\n",
    "\n",
    "    # Predict test data\n",
    "    scnym_api(\n",
    "        adata=adata_test,\n",
    "        task='predict',\n",
    "        key_added='scNym',\n",
    "        config='no_new_identity',\n",
    "        trained_model='./scnym_outputs'\n",
    "    )\n",
    "\n",
    "    # Save results in dataframe\n",
    "    if fold == 1:\n",
    "        results = pd.DataFrame({\"pred\": adata_test.obs['scNym'].to_list(), \n",
    "                                \"true_label\": adata_test.obs[\"cell_type\"].to_list(), \n",
    "                                \"fold\": [fold]*adata_test.obs['scNym'].shape[0]})\n",
    "    else:   \n",
    "        dataframe_temp = pd.DataFrame({\"pred\": adata_test.obs['scNym'].to_list(), \n",
    "                                    \"true_label\": adata_test.obs[\"cell_type\"].to_list(), \n",
    "                                    \"fold\": [fold]*adata_test.obs['scNym'].shape[0]})\n",
    "        results = pd.concat([results,dataframe_temp], axis=0)\n",
    "\n",
    "# Reset index\n",
    "results.reset_index(drop=True, inplace=True)"
   ]
  },
  {
   "cell_type": "code",
   "execution_count": 4,
   "metadata": {},
   "outputs": [],
   "source": [
    "# Save results\n",
    "results.to_csv('results/scNym_hvgs_output.csv', index=True)"
   ]
  },
  {
   "cell_type": "code",
   "execution_count": 5,
   "metadata": {},
   "outputs": [
    {
     "name": "stdout",
     "output_type": "stream",
     "text": [
      "Accuracy: 0.9894970241568445\n"
     ]
    }
   ],
   "source": [
    "# Extract the unique labels\n",
    "unique_labels1 = np.unique(results.true_label)\n",
    "unique_labels2 = np.unique(results.pred)\n",
    "unique_labels = np.unique(np.concatenate([unique_labels1,unique_labels2]))\n",
    "\n",
    "# Convert string labels to numerical labels\n",
    "label_encoder_temp = LabelEncoder()\n",
    "label_encoder_temp.fit(unique_labels)\n",
    "y_true = label_encoder_temp.transform(results.true_label)\n",
    "y_pred = label_encoder_temp.transform(results.pred)\n",
    "\n",
    "# Calculate accuracy\n",
    "accuracy = accuracy_score(y_true, y_pred)\n",
    "print(\"Accuracy:\", accuracy)"
   ]
  }
 ],
 "metadata": {
  "kernelspec": {
   "display_name": "AnnotationEnv",
   "language": "python",
   "name": "python3"
  },
  "language_info": {
   "codemirror_mode": {
    "name": "ipython",
    "version": 3
   },
   "file_extension": ".py",
   "mimetype": "text/x-python",
   "name": "python",
   "nbconvert_exporter": "python",
   "pygments_lexer": "ipython3",
   "version": "3.10.5"
  }
 },
 "nbformat": 4,
 "nbformat_minor": 2
}
