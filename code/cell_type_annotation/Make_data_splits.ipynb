{
 "cells": [
  {
   "cell_type": "markdown",
   "metadata": {},
   "source": [
    "## Create train and test data"
   ]
  },
  {
   "cell_type": "markdown",
   "metadata": {},
   "source": [
    "Use this notebook to make train and test data splits used for the R based methods/models"
   ]
  },
  {
   "cell_type": "markdown",
   "metadata": {},
   "source": [
    "Creates one with HVGs and one without HVGs filtering for each dataset"
   ]
  },
  {
   "cell_type": "code",
   "execution_count": 1,
   "metadata": {},
   "outputs": [],
   "source": [
    "# Import packages\n",
    "from data_split_fun import split_data "
   ]
  },
  {
   "cell_type": "markdown",
   "metadata": {},
   "source": [
    "### Segerstolpe"
   ]
  },
  {
   "cell_type": "code",
   "execution_count": 2,
   "metadata": {},
   "outputs": [
    {
     "name": "stderr",
     "output_type": "stream",
     "text": [
      "c:\\Users\\user\\Documents\\GitHub\\Masters_Thesis\\MScEnv\\lib\\site-packages\\sklearn\\model_selection\\_split.py:725: UserWarning: The least populated class in y has only 2 members, which is less than n_splits=5.\n",
      "  warnings.warn(\n"
     ]
    }
   ],
   "source": [
    "split_data(data_path=\"../../data/processed/data_for_evaluating_cell_type_annotation/Segerstolpe.h5ad\",\n",
    "           save_path=\"Segerstolpe/data/data\")"
   ]
  },
  {
   "cell_type": "code",
   "execution_count": 2,
   "metadata": {},
   "outputs": [
    {
     "name": "stderr",
     "output_type": "stream",
     "text": [
      "c:\\Users\\user\\Documents\\GitHub\\Masters_Thesis\\MScEnv\\lib\\site-packages\\sklearn\\model_selection\\_split.py:725: UserWarning: The least populated class in y has only 2 members, which is less than n_splits=5.\n",
      "  warnings.warn(\n"
     ]
    }
   ],
   "source": [
    "split_data(data_path=\"../../data/processed/data_for_evaluating_cell_type_annotation/Segerstolpe.h5ad\",\n",
    "           save_path=\"Segerstolpe/data/data_hvgs\",\n",
    "           HVG=True)"
   ]
  },
  {
   "cell_type": "markdown",
   "metadata": {},
   "source": [
    "### MacParland"
   ]
  },
  {
   "cell_type": "code",
   "execution_count": 3,
   "metadata": {},
   "outputs": [],
   "source": [
    "split_data(data_path=\"../../data/processed/data_for_evaluating_cell_type_annotation/MacParland.h5ad\",\n",
    "           save_path=\"MacParland/data/data\")"
   ]
  },
  {
   "cell_type": "code",
   "execution_count": 3,
   "metadata": {},
   "outputs": [],
   "source": [
    "split_data(data_path=\"../../data/processed/data_for_evaluating_cell_type_annotation/MacParland.h5ad\",\n",
    "           save_path=\"MacParland/data/data_hvgs\",\n",
    "           HVG=True)"
   ]
  },
  {
   "cell_type": "markdown",
   "metadata": {},
   "source": [
    "### Baron"
   ]
  },
  {
   "cell_type": "code",
   "execution_count": 4,
   "metadata": {},
   "outputs": [
    {
     "name": "stderr",
     "output_type": "stream",
     "text": [
      "c:\\Users\\user\\Documents\\GitHub\\Masters_Thesis\\MScEnv\\lib\\site-packages\\anndata\\_core\\anndata.py:1838: UserWarning: Observation names are not unique. To make them unique, call `.obs_names_make_unique`.\n",
      "  utils.warn_names_duplicates(\"obs\")\n",
      "c:\\Users\\user\\Documents\\GitHub\\Masters_Thesis\\MScEnv\\lib\\site-packages\\anndata\\_core\\anndata.py:1838: UserWarning: Observation names are not unique. To make them unique, call `.obs_names_make_unique`.\n",
      "  utils.warn_names_duplicates(\"obs\")\n",
      "c:\\Users\\user\\Documents\\GitHub\\Masters_Thesis\\MScEnv\\lib\\site-packages\\anndata\\_core\\anndata.py:1838: UserWarning: Observation names are not unique. To make them unique, call `.obs_names_make_unique`.\n",
      "  utils.warn_names_duplicates(\"obs\")\n"
     ]
    }
   ],
   "source": [
    "split_data(data_path=\"../../data/processed/data_for_evaluating_cell_type_annotation/Baron.h5ad\",\n",
    "           save_path=\"Baron/data/data\")"
   ]
  },
  {
   "cell_type": "code",
   "execution_count": 4,
   "metadata": {},
   "outputs": [
    {
     "name": "stderr",
     "output_type": "stream",
     "text": [
      "c:\\Users\\user\\Documents\\GitHub\\Masters_Thesis\\MScEnv\\lib\\site-packages\\anndata\\_core\\anndata.py:1838: UserWarning: Observation names are not unique. To make them unique, call `.obs_names_make_unique`.\n",
      "  utils.warn_names_duplicates(\"obs\")\n",
      "c:\\Users\\user\\Documents\\GitHub\\Masters_Thesis\\MScEnv\\lib\\site-packages\\anndata\\_core\\anndata.py:1838: UserWarning: Observation names are not unique. To make them unique, call `.obs_names_make_unique`.\n",
      "  utils.warn_names_duplicates(\"obs\")\n",
      "c:\\Users\\user\\Documents\\GitHub\\Masters_Thesis\\MScEnv\\lib\\site-packages\\anndata\\_core\\anndata.py:1838: UserWarning: Observation names are not unique. To make them unique, call `.obs_names_make_unique`.\n",
      "  utils.warn_names_duplicates(\"obs\")\n",
      "c:\\Users\\user\\Documents\\GitHub\\Masters_Thesis\\MScEnv\\lib\\site-packages\\anndata\\_core\\anndata.py:1838: UserWarning: Observation names are not unique. To make them unique, call `.obs_names_make_unique`.\n",
      "  utils.warn_names_duplicates(\"obs\")\n",
      "c:\\Users\\user\\Documents\\GitHub\\Masters_Thesis\\MScEnv\\lib\\site-packages\\anndata\\_core\\anndata.py:1838: UserWarning: Observation names are not unique. To make them unique, call `.obs_names_make_unique`.\n",
      "  utils.warn_names_duplicates(\"obs\")\n",
      "c:\\Users\\user\\Documents\\GitHub\\Masters_Thesis\\MScEnv\\lib\\site-packages\\anndata\\_core\\anndata.py:1838: UserWarning: Observation names are not unique. To make them unique, call `.obs_names_make_unique`.\n",
      "  utils.warn_names_duplicates(\"obs\")\n",
      "c:\\Users\\user\\Documents\\GitHub\\Masters_Thesis\\MScEnv\\lib\\site-packages\\anndata\\_core\\anndata.py:1838: UserWarning: Observation names are not unique. To make them unique, call `.obs_names_make_unique`.\n",
      "  utils.warn_names_duplicates(\"obs\")\n",
      "c:\\Users\\user\\Documents\\GitHub\\Masters_Thesis\\MScEnv\\lib\\site-packages\\anndata\\_core\\anndata.py:1838: UserWarning: Observation names are not unique. To make them unique, call `.obs_names_make_unique`.\n",
      "  utils.warn_names_duplicates(\"obs\")\n"
     ]
    }
   ],
   "source": [
    "split_data(data_path=\"../../data/processed/data_for_evaluating_cell_type_annotation/Baron.h5ad\",\n",
    "           save_path=\"Baron/data/data_hvgs\",\n",
    "           HVG=True)"
   ]
  },
  {
   "cell_type": "markdown",
   "metadata": {},
   "source": [
    "### Zheng68k"
   ]
  },
  {
   "cell_type": "code",
   "execution_count": 2,
   "metadata": {},
   "outputs": [],
   "source": [
    "split_data(data_path=\"../../data/processed/data_for_evaluating_cell_type_annotation/Zheng68k.h5ad\",\n",
    "           save_path=\"Zheng68k/data/data\")"
   ]
  },
  {
   "cell_type": "code",
   "execution_count": 2,
   "metadata": {},
   "outputs": [
    {
     "name": "stderr",
     "output_type": "stream",
     "text": [
      "c:\\Users\\user\\Documents\\GitHub\\Masters_Thesis\\MScEnv\\lib\\site-packages\\scanpy\\preprocessing\\_highly_variable_genes.py:539: ImplicitModificationWarning: Trying to modify attribute `._uns` of view, initializing view as actual.\n",
      "  adata.uns['hvg'] = {'flavor': flavor}\n",
      "c:\\Users\\user\\Documents\\GitHub\\Masters_Thesis\\MScEnv\\lib\\site-packages\\scanpy\\preprocessing\\_highly_variable_genes.py:539: ImplicitModificationWarning: Trying to modify attribute `._uns` of view, initializing view as actual.\n",
      "  adata.uns['hvg'] = {'flavor': flavor}\n",
      "c:\\Users\\user\\Documents\\GitHub\\Masters_Thesis\\MScEnv\\lib\\site-packages\\scanpy\\preprocessing\\_highly_variable_genes.py:539: ImplicitModificationWarning: Trying to modify attribute `._uns` of view, initializing view as actual.\n",
      "  adata.uns['hvg'] = {'flavor': flavor}\n",
      "c:\\Users\\user\\Documents\\GitHub\\Masters_Thesis\\MScEnv\\lib\\site-packages\\scanpy\\preprocessing\\_highly_variable_genes.py:539: ImplicitModificationWarning: Trying to modify attribute `._uns` of view, initializing view as actual.\n",
      "  adata.uns['hvg'] = {'flavor': flavor}\n",
      "c:\\Users\\user\\Documents\\GitHub\\Masters_Thesis\\MScEnv\\lib\\site-packages\\scanpy\\preprocessing\\_highly_variable_genes.py:539: ImplicitModificationWarning: Trying to modify attribute `._uns` of view, initializing view as actual.\n",
      "  adata.uns['hvg'] = {'flavor': flavor}\n"
     ]
    }
   ],
   "source": [
    "split_data(data_path=\"../../data/processed/data_for_evaluating_cell_type_annotation/Zheng68k.h5ad\",\n",
    "           save_path=\"Zheng68k/data/data_hvgs\",\n",
    "           HVG=True)"
   ]
  }
 ],
 "metadata": {
  "kernelspec": {
   "display_name": "MScEnv",
   "language": "python",
   "name": "python3"
  },
  "language_info": {
   "codemirror_mode": {
    "name": "ipython",
    "version": 3
   },
   "file_extension": ".py",
   "mimetype": "text/x-python",
   "name": "python",
   "nbconvert_exporter": "python",
   "pygments_lexer": "ipython3",
   "version": "3.10.5"
  }
 },
 "nbformat": 4,
 "nbformat_minor": 2
}
